{
 "cells": [
  {
   "cell_type": "markdown",
   "metadata": {},
   "source": [
    "# Using Python to analyse my Facebook Activity\n",
    "\n",
    "I analyze my Facebook Activity from 2009 September upto 2020 September, a 11 year period.\n",
    "\n",
    "This analyses seek to answer two questions:\n",
    "\n",
    "1. How often do I post\n",
    "2. Am I using Facebook more than I used to?\n",
    "\n",
    "The data analysed is ony for posts I made and it excludes:\n",
    "\n",
    "- Pictures and Videos shared.\n",
    "- Comments\n",
    "- Likes and Reactions\n",
    "- Friends and Reactions\n",
    "- Stories\n",
    "- e.t.c\n",
    "\n",
    "\n"
   ]
  },
  {
   "cell_type": "markdown",
   "metadata": {},
   "source": [
    "## Downloading Facebook Data\n",
    "\n",
    "Facebook actually allows us to download pretty much everything we've ever done on the site. You can download your data here, but you may not want to download all of it — that file could be massive, depending on how often you use Facebook and how long you've been on it.\n",
    "\n",
    "- To get just the data related to posts, go to the data download page. Change the requested file format from HTML to JSON, and then deselect everything from the options below, check off only posts, and hit Create File."
   ]
  },
  {
   "cell_type": "code",
   "execution_count": 1,
   "metadata": {},
   "outputs": [
    {
     "data": {
      "text/html": [
       "<div>\n",
       "<style scoped>\n",
       "    .dataframe tbody tr th:only-of-type {\n",
       "        vertical-align: middle;\n",
       "    }\n",
       "\n",
       "    .dataframe tbody tr th {\n",
       "        vertical-align: top;\n",
       "    }\n",
       "\n",
       "    .dataframe thead th {\n",
       "        text-align: right;\n",
       "    }\n",
       "</style>\n",
       "<table border=\"1\" class=\"dataframe\">\n",
       "  <thead>\n",
       "    <tr style=\"text-align: right;\">\n",
       "      <th></th>\n",
       "      <th>timestamp</th>\n",
       "      <th>data</th>\n",
       "      <th>title</th>\n",
       "      <th>attachments</th>\n",
       "      <th>tags</th>\n",
       "    </tr>\n",
       "  </thead>\n",
       "  <tbody>\n",
       "    <tr>\n",
       "      <th>0</th>\n",
       "      <td>2020-09-24 10:14:39</td>\n",
       "      <td>[{'post': 'Happy birthday Getty'}]</td>\n",
       "      <td>Christian Shiku wrote on Gertrude Santungwana'...</td>\n",
       "      <td>NaN</td>\n",
       "      <td>NaN</td>\n",
       "    </tr>\n",
       "    <tr>\n",
       "      <th>1</th>\n",
       "      <td>2020-09-19 07:46:28</td>\n",
       "      <td>[{'post': 'Happy birthday Sthabile Ndlovu'}]</td>\n",
       "      <td>Christian Shiku wrote on Sthabile Ndlovu's tim...</td>\n",
       "      <td>NaN</td>\n",
       "      <td>NaN</td>\n",
       "    </tr>\n",
       "    <tr>\n",
       "      <th>2</th>\n",
       "      <td>2020-09-05 06:11:31</td>\n",
       "      <td>[{'post': 'happy birthday bro'}]</td>\n",
       "      <td>Christian Shiku wrote on Wlyam July's timeline.</td>\n",
       "      <td>NaN</td>\n",
       "      <td>NaN</td>\n",
       "    </tr>\n",
       "  </tbody>\n",
       "</table>\n",
       "</div>"
      ],
      "text/plain": [
       "            timestamp                                          data  \\\n",
       "0 2020-09-24 10:14:39            [{'post': 'Happy birthday Getty'}]   \n",
       "1 2020-09-19 07:46:28  [{'post': 'Happy birthday Sthabile Ndlovu'}]   \n",
       "2 2020-09-05 06:11:31              [{'post': 'happy birthday bro'}]   \n",
       "\n",
       "                                               title attachments tags  \n",
       "0  Christian Shiku wrote on Gertrude Santungwana'...         NaN  NaN  \n",
       "1  Christian Shiku wrote on Sthabile Ndlovu's tim...         NaN  NaN  \n",
       "2    Christian Shiku wrote on Wlyam July's timeline.         NaN  NaN  "
      ]
     },
     "execution_count": 1,
     "metadata": {},
     "output_type": "execute_result"
    }
   ],
   "source": [
    "import pandas as pd\n",
    "\n",
    "# read the json file into a dataframe\n",
    "df = pd.read_json(r\"C:\\Users\\cheml\\Downloads\\facebook-christianshiku\\posts\\your_posts_1.json\")\n",
    "\n",
    "df.head(3)"
   ]
  },
  {
   "cell_type": "code",
   "execution_count": 2,
   "metadata": {},
   "outputs": [
    {
     "data": {
      "text/html": [
       "<div>\n",
       "<style scoped>\n",
       "    .dataframe tbody tr th:only-of-type {\n",
       "        vertical-align: middle;\n",
       "    }\n",
       "\n",
       "    .dataframe tbody tr th {\n",
       "        vertical-align: top;\n",
       "    }\n",
       "\n",
       "    .dataframe thead th {\n",
       "        text-align: right;\n",
       "    }\n",
       "</style>\n",
       "<table border=\"1\" class=\"dataframe\">\n",
       "  <thead>\n",
       "    <tr style=\"text-align: right;\">\n",
       "      <th></th>\n",
       "      <th>date</th>\n",
       "      <th>data</th>\n",
       "    </tr>\n",
       "  </thead>\n",
       "  <tbody>\n",
       "    <tr>\n",
       "      <th>0</th>\n",
       "      <td>2020-09-24 10:14:39</td>\n",
       "      <td>[{'post': 'Happy birthday Getty'}]</td>\n",
       "    </tr>\n",
       "    <tr>\n",
       "      <th>1</th>\n",
       "      <td>2020-09-19 07:46:28</td>\n",
       "      <td>[{'post': 'Happy birthday Sthabile Ndlovu'}]</td>\n",
       "    </tr>\n",
       "    <tr>\n",
       "      <th>2</th>\n",
       "      <td>2020-09-05 06:11:31</td>\n",
       "      <td>[{'post': 'happy birthday bro'}]</td>\n",
       "    </tr>\n",
       "  </tbody>\n",
       "</table>\n",
       "</div>"
      ],
      "text/plain": [
       "                 date                                          data\n",
       "0 2020-09-24 10:14:39            [{'post': 'Happy birthday Getty'}]\n",
       "1 2020-09-19 07:46:28  [{'post': 'Happy birthday Sthabile Ndlovu'}]\n",
       "2 2020-09-05 06:11:31              [{'post': 'happy birthday bro'}]"
      ]
     },
     "execution_count": 2,
     "metadata": {},
     "output_type": "execute_result"
    }
   ],
   "source": [
    "# rename the timestamp column\n",
    "df.rename(columns={'timestamp': 'date'}, inplace=True)\n",
    "\n",
    "#drop some unnecessary columns\n",
    "df = df.drop(['attachments', 'title', 'tags'], axis=1)\n",
    "\n",
    "# making sure it's datetime format\n",
    "pd.to_datetime(df['date'])\n",
    "\n",
    "df.head(3)"
   ]
  },
  {
   "cell_type": "code",
   "execution_count": 3,
   "metadata": {},
   "outputs": [
    {
     "name": "stdout",
     "output_type": "stream",
     "text": [
      "(665, 2)\n"
     ]
    },
    {
     "data": {
      "text/html": [
       "<div>\n",
       "<style scoped>\n",
       "    .dataframe tbody tr th:only-of-type {\n",
       "        vertical-align: middle;\n",
       "    }\n",
       "\n",
       "    .dataframe tbody tr th {\n",
       "        vertical-align: top;\n",
       "    }\n",
       "\n",
       "    .dataframe thead th {\n",
       "        text-align: right;\n",
       "    }\n",
       "</style>\n",
       "<table border=\"1\" class=\"dataframe\">\n",
       "  <thead>\n",
       "    <tr style=\"text-align: right;\">\n",
       "      <th></th>\n",
       "      <th>date</th>\n",
       "      <th>data</th>\n",
       "    </tr>\n",
       "  </thead>\n",
       "  <tbody>\n",
       "    <tr>\n",
       "      <th>662</th>\n",
       "      <td>2009-09-29 14:34:34</td>\n",
       "      <td>[{'post': 'wonderful weather.....whose kiping ...</td>\n",
       "    </tr>\n",
       "    <tr>\n",
       "      <th>663</th>\n",
       "      <td>2009-09-24 09:18:17</td>\n",
       "      <td>[{'post': 'well all around my soul gives away,...</td>\n",
       "    </tr>\n",
       "    <tr>\n",
       "      <th>664</th>\n",
       "      <td>2009-09-21 11:14:33</td>\n",
       "      <td>[{'post': 'da most splendid achievement of all...</td>\n",
       "    </tr>\n",
       "  </tbody>\n",
       "</table>\n",
       "</div>"
      ],
      "text/plain": [
       "                   date                                               data\n",
       "662 2009-09-29 14:34:34  [{'post': 'wonderful weather.....whose kiping ...\n",
       "663 2009-09-24 09:18:17  [{'post': 'well all around my soul gives away,...\n",
       "664 2009-09-21 11:14:33  [{'post': 'da most splendid achievement of all..."
      ]
     },
     "execution_count": 3,
     "metadata": {},
     "output_type": "execute_result"
    }
   ],
   "source": [
    "print(df.shape)\n",
    "df.tail(3)"
   ]
  },
  {
   "cell_type": "markdown",
   "metadata": {},
   "source": [
    "In the case of my personal Facebook data, it looks like I've posted over 665 times in total. My data begins back in late 2009, when I apparently posted something motivational about achievements. I was in University in 2009, so that timing checks out."
   ]
  },
  {
   "cell_type": "markdown",
   "metadata": {},
   "source": [
    "## Figuring Monthly Posts\n",
    "\n",
    "Now that we've got our data, we need to get it into a format that tells us something about post frequency. Given that we're spanning years of history here, looking at it month-to-month makes the most sense. This means we need to group our 'date' column by months, and count how many rows (i.e., posts) are associated with each month.\n",
    "\n",
    "Using Pandas we need to do two things:\n",
    "\n",
    "1. Set the date column as the index of our DataFrame.\n",
    "2. Resample the data by month, counting how many posts occur in each month.\n",
    "\n",
    "For the first step, we can use set_index(). The second step is a bit more complex, so let's break it down into four separate steps to break down the code we need to write:\n",
    "\n",
    "1. Select the column we want to resample by — in this case, is the data column.\n",
    "2. Use the .resample() function with the argument 'MS' (for \"Month Start\") to resample our data by month.\n",
    "3. Use .size() to specify what we want to measure each month — in this case, the number of rows (i.e., posts) with a post date that fall within that month.\n",
    "4. Assign the resulting Series to a variable called post_counts."
   ]
  },
  {
   "cell_type": "code",
   "execution_count": 4,
   "metadata": {},
   "outputs": [
    {
     "data": {
      "text/plain": [
       "date\n",
       "2009-09-01    3\n",
       "2009-10-01    2\n",
       "2009-11-01    1\n",
       "2009-12-01    0\n",
       "2010-01-01    0\n",
       "             ..\n",
       "2020-05-01    4\n",
       "2020-06-01    5\n",
       "2020-07-01    6\n",
       "2020-08-01    3\n",
       "2020-09-01    3\n",
       "Freq: MS, Name: data, Length: 133, dtype: int64"
      ]
     },
     "execution_count": 4,
     "metadata": {},
     "output_type": "execute_result"
    }
   ],
   "source": [
    "df = df.set_index('date')\n",
    "post_counts = df['data'].resample('MS').size()\n",
    "post_counts"
   ]
  },
  {
   "cell_type": "markdown",
   "metadata": {},
   "source": [
    "That looks great! We've got our post counts broken down by month, and if we check the original data set, we can quickly see the counts are correct.\n",
    "\n",
    "Note that months with no posts have been correctly counted as 0 rather than simply skipped. That's one of the reasons why using resample(), which is designed to work with time series, is better for this kind of task than using something like groupby(), where it's easy to skip months with no data if we're not careful."
   ]
  },
  {
   "cell_type": "markdown",
   "metadata": {},
   "source": [
    "## Visualizing my Facebook Usage\n",
    "\n",
    "Anyway, now that we're past the tricky part, all that's left is the fun: visualization! To do that, we'll import matplotlib (and use the %matplotlib inline magic to make our chart appear in the Jupyter Notebook. We'll also import Seaborn and NumPy, which will help us make a more readable-looking chart.\n",
    "\n",
    "Once we've done our imports, we'll use sns.set() to set the size and font size of our chart. Since we're working with a lot of data here, we'll make the chart fairly large and make sure the font size is big enough to be readable.\n",
    "\n",
    "Then, we'll set the x labels to use the index of post_counts (the dates), and use sns.barplot() to create a bar chart. In the arguments for sns.barplot(), we'll tell the function to use the x labels we defined, to plot the data in post_counts, and to make the bar color blue.\n",
    "\n",
    "That alone would be enough to create a basic chart, but in this case, we'll want to take a few additional steps to make the chart readable. Specifically, we'll want to arrange the tick positions on the x axis to once every 24 months, so that we see a tick every other year in the resultant chart. We'll also want to reformat the dates in the chart so that only the year is displayed.\n"
   ]
  },
  {
   "cell_type": "code",
   "execution_count": 5,
   "metadata": {},
   "outputs": [
    {
     "name": "stderr",
     "output_type": "stream",
     "text": [
      "In C:\\ProgramData\\Anaconda3\\lib\\site-packages\\matplotlib\\mpl-data\\stylelib\\_classic_test.mplstyle: \n",
      "The text.latex.preview rcparam was deprecated in Matplotlib 3.3 and will be removed two minor releases later.\n",
      "In C:\\ProgramData\\Anaconda3\\lib\\site-packages\\matplotlib\\mpl-data\\stylelib\\_classic_test.mplstyle: \n",
      "The mathtext.fallback_to_cm rcparam was deprecated in Matplotlib 3.3 and will be removed two minor releases later.\n",
      "In C:\\ProgramData\\Anaconda3\\lib\\site-packages\\matplotlib\\mpl-data\\stylelib\\_classic_test.mplstyle: Support for setting the 'mathtext.fallback_to_cm' rcParam is deprecated since 3.3 and will be removed two minor releases later; use 'mathtext.fallback : 'cm' instead.\n",
      "In C:\\ProgramData\\Anaconda3\\lib\\site-packages\\matplotlib\\mpl-data\\stylelib\\_classic_test.mplstyle: \n",
      "The validate_bool_maybe_none function was deprecated in Matplotlib 3.3 and will be removed two minor releases later.\n",
      "In C:\\ProgramData\\Anaconda3\\lib\\site-packages\\matplotlib\\mpl-data\\stylelib\\_classic_test.mplstyle: \n",
      "The savefig.jpeg_quality rcparam was deprecated in Matplotlib 3.3 and will be removed two minor releases later.\n",
      "In C:\\ProgramData\\Anaconda3\\lib\\site-packages\\matplotlib\\mpl-data\\stylelib\\_classic_test.mplstyle: \n",
      "The keymap.all_axes rcparam was deprecated in Matplotlib 3.3 and will be removed two minor releases later.\n",
      "In C:\\ProgramData\\Anaconda3\\lib\\site-packages\\matplotlib\\mpl-data\\stylelib\\_classic_test.mplstyle: \n",
      "The animation.avconv_path rcparam was deprecated in Matplotlib 3.3 and will be removed two minor releases later.\n",
      "In C:\\ProgramData\\Anaconda3\\lib\\site-packages\\matplotlib\\mpl-data\\stylelib\\_classic_test.mplstyle: \n",
      "The animation.avconv_args rcparam was deprecated in Matplotlib 3.3 and will be removed two minor releases later.\n",
      "C:\\ProgramData\\Anaconda3\\lib\\site-packages\\statsmodels\\tools\\_testing.py:19: FutureWarning: pandas.util.testing is deprecated. Use the functions in the public API at pandas.testing instead.\n",
      "  import pandas.util.testing as tm\n"
     ]
    },
    {
     "data": {
      "image/png": "[encoded data removed]",
      "text/plain": [
       "<Figure size 2880x1440 with 1 Axes>"
      ]
     },
     "metadata": {},
     "output_type": "display_data"
    }
   ],
   "source": [
    "%matplotlib inline\n",
    "import matplotlib.pyplot as plt\n",
    "import seaborn as sns\n",
    "import numpy as np\n",
    "\n",
    "# set figure size and font size\n",
    "sns.set(rc={'figure.figsize':(40,20)})\n",
    "sns.set(font_scale=3)\n",
    "\n",
    "# set x labels\n",
    "x_labels = post_counts.index\n",
    "\n",
    "#create bar plot\n",
    "sns.barplot(x_labels, post_counts, color=\"blue\")\n",
    "\n",
    "# only show x-axis labels for Jan 1 of every other year\n",
    "tick_positions = np.arange(10, len(x_labels), step=24)\n",
    "\n",
    "#reformat date to display year onlyplt.ylabel(\"post counts\")\n",
    "plt.xticks(tick_positions, x_labels[tick_positions].strftime(\"%Y\"))\n",
    "\n",
    "# display the plot\n",
    "plt.show()"
   ]
  },
  {
   "cell_type": "markdown",
   "metadata": {},
   "source": [
    "## Conclusion\n",
    "\n",
    "In the chart above you can see that I am not a frequent user and I only posted rarely on my first days, only to have a peak in 2011 the year I graduated from University.\n",
    "\n",
    "The year with the highest posts was in 2019 with a peak of 60 posts in a month."
   ]
  },
  {
   "cell_type": "code",
   "execution_count": null,
   "metadata": {},
   "outputs": [],
   "source": []
  }
 ],
 "metadata": {
  "kernelspec": {
   "display_name": "Python 3",
   "language": "python",
   "name": "python3"
  },
  "language_info": {
   "codemirror_mode": {
    "name": "ipython",
    "version": 3
   },
   "file_extension": ".py",
   "mimetype": "text/x-python",
   "name": "python",
   "nbconvert_exporter": "python",
   "pygments_lexer": "ipython3",
   "version": "3.7.4"
  }
 },
 "nbformat": 4,
 "nbformat_minor": 2
}
